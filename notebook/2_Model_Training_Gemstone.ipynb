{
 "cells": [
  {
   "attachments": {},
   "cell_type": "markdown",
   "metadata": {},
   "source": [
    "# <p style=\"padding:10px;background-color:#87CEEB ;margin:10;color:#000000;font-family:newtimeroman;font-size:100%;text-align:center;border-radius: 10px 10px ;overflow:hidden;font-weight:50\">2. Model Training for Gemstone Dataset - Utkarsh Gaikwad</p>"
   ]
  },
  {
   "attachments": {},
   "cell_type": "markdown",
   "metadata": {},
   "source": [
    "### Loading the necessary Libraries"
   ]
  },
  {
   "cell_type": "code",
   "execution_count": 1,
   "metadata": {},
   "outputs": [],
   "source": [
    "# Basic Import\n",
    "import numpy as np\n",
    "import pandas as pd\n",
    "import matplotlib.pyplot as plt \n",
    "import seaborn as sns\n",
    "# Modelling\n",
    "from sklearn.neighbors import KNeighborsRegressor\n",
    "from sklearn.tree import DecisionTreeRegressor\n",
    "from sklearn.ensemble import RandomForestRegressor,AdaBoostRegressor\n",
    "from sklearn.svm import SVR\n",
    "from sklearn.linear_model import LinearRegression, Ridge,Lasso\n",
    "from sklearn.metrics import r2_score, mean_absolute_error, mean_squared_error\n",
    "from sklearn.model_selection import RandomizedSearchCV\n",
    "from catboost import CatBoostRegressor\n",
    "from xgboost import XGBRegressor"
   ]
  },
  {
   "attachments": {},
   "cell_type": "markdown",
   "metadata": {},
   "source": [
    "# <p style=\"padding:10px;background-color:#87CEEB ;margin:10;color:#000000;font-family:newtimeroman;font-size:100%;text-align:center;border-radius: 10px 10px ;overflow:hidden;font-weight:50\">Read the Dataset</p>"
   ]
  },
  {
   "cell_type": "code",
   "execution_count": 2,
   "metadata": {},
   "outputs": [
    {
     "data": {
      "text/html": [
       "<div>\n",
       "<style scoped>\n",
       "    .dataframe tbody tr th:only-of-type {\n",
       "        vertical-align: middle;\n",
       "    }\n",
       "\n",
       "    .dataframe tbody tr th {\n",
       "        vertical-align: top;\n",
       "    }\n",
       "\n",
       "    .dataframe thead th {\n",
       "        text-align: right;\n",
       "    }\n",
       "</style>\n",
       "<table border=\"1\" class=\"dataframe\">\n",
       "  <thead>\n",
       "    <tr style=\"text-align: right;\">\n",
       "      <th></th>\n",
       "      <th>id</th>\n",
       "      <th>carat</th>\n",
       "      <th>cut</th>\n",
       "      <th>color</th>\n",
       "      <th>clarity</th>\n",
       "      <th>depth</th>\n",
       "      <th>table</th>\n",
       "      <th>x</th>\n",
       "      <th>y</th>\n",
       "      <th>z</th>\n",
       "      <th>price</th>\n",
       "    </tr>\n",
       "  </thead>\n",
       "  <tbody>\n",
       "    <tr>\n",
       "      <th>0</th>\n",
       "      <td>0</td>\n",
       "      <td>1.52</td>\n",
       "      <td>Premium</td>\n",
       "      <td>F</td>\n",
       "      <td>VS2</td>\n",
       "      <td>62.2</td>\n",
       "      <td>58.0</td>\n",
       "      <td>7.27</td>\n",
       "      <td>7.33</td>\n",
       "      <td>4.55</td>\n",
       "      <td>13619</td>\n",
       "    </tr>\n",
       "    <tr>\n",
       "      <th>1</th>\n",
       "      <td>1</td>\n",
       "      <td>2.03</td>\n",
       "      <td>Very Good</td>\n",
       "      <td>J</td>\n",
       "      <td>SI2</td>\n",
       "      <td>62.0</td>\n",
       "      <td>58.0</td>\n",
       "      <td>8.06</td>\n",
       "      <td>8.12</td>\n",
       "      <td>5.05</td>\n",
       "      <td>13387</td>\n",
       "    </tr>\n",
       "    <tr>\n",
       "      <th>2</th>\n",
       "      <td>2</td>\n",
       "      <td>0.70</td>\n",
       "      <td>Ideal</td>\n",
       "      <td>G</td>\n",
       "      <td>VS1</td>\n",
       "      <td>61.2</td>\n",
       "      <td>57.0</td>\n",
       "      <td>5.69</td>\n",
       "      <td>5.73</td>\n",
       "      <td>3.50</td>\n",
       "      <td>2772</td>\n",
       "    </tr>\n",
       "    <tr>\n",
       "      <th>3</th>\n",
       "      <td>3</td>\n",
       "      <td>0.32</td>\n",
       "      <td>Ideal</td>\n",
       "      <td>G</td>\n",
       "      <td>VS1</td>\n",
       "      <td>61.6</td>\n",
       "      <td>56.0</td>\n",
       "      <td>4.38</td>\n",
       "      <td>4.41</td>\n",
       "      <td>2.71</td>\n",
       "      <td>666</td>\n",
       "    </tr>\n",
       "    <tr>\n",
       "      <th>4</th>\n",
       "      <td>4</td>\n",
       "      <td>1.70</td>\n",
       "      <td>Premium</td>\n",
       "      <td>G</td>\n",
       "      <td>VS2</td>\n",
       "      <td>62.6</td>\n",
       "      <td>59.0</td>\n",
       "      <td>7.65</td>\n",
       "      <td>7.61</td>\n",
       "      <td>4.77</td>\n",
       "      <td>14453</td>\n",
       "    </tr>\n",
       "  </tbody>\n",
       "</table>\n",
       "</div>"
      ],
      "text/plain": [
       "   id  carat        cut color clarity  depth  table     x     y     z  price\n",
       "0   0   1.52    Premium     F     VS2   62.2   58.0  7.27  7.33  4.55  13619\n",
       "1   1   2.03  Very Good     J     SI2   62.0   58.0  8.06  8.12  5.05  13387\n",
       "2   2   0.70      Ideal     G     VS1   61.2   57.0  5.69  5.73  3.50   2772\n",
       "3   3   0.32      Ideal     G     VS1   61.6   56.0  4.38  4.41  2.71    666\n",
       "4   4   1.70    Premium     G     VS2   62.6   59.0  7.65  7.61  4.77  14453"
      ]
     },
     "execution_count": 2,
     "metadata": {},
     "output_type": "execute_result"
    }
   ],
   "source": [
    "df = pd.read_csv('./data/gemstone.csv')\n",
    "df.head()"
   ]
  },
  {
   "attachments": {},
   "cell_type": "markdown",
   "metadata": {},
   "source": [
    "### Dropping id Column"
   ]
  },
  {
   "cell_type": "code",
   "execution_count": 3,
   "metadata": {},
   "outputs": [],
   "source": [
    "df = df.drop(labels=['id'],axis=1)"
   ]
  },
  {
   "attachments": {},
   "cell_type": "markdown",
   "metadata": {},
   "source": [
    "# <p style=\"padding:10px;background-color:#87CEEB ;margin:10;color:#000000;font-family:newtimeroman;font-size:100%;text-align:center;border-radius: 10px 10px ;overflow:hidden;font-weight:50\">Getting X and Y variables</p>"
   ]
  },
  {
   "cell_type": "code",
   "execution_count": 4,
   "metadata": {},
   "outputs": [],
   "source": [
    "X = df.drop(labels=['price'],axis=1)\n",
    "Y = df[['price']]"
   ]
  },
  {
   "attachments": {},
   "cell_type": "markdown",
   "metadata": {},
   "source": [
    "# <p style=\"padding:10px;background-color:#87CEEB ;margin:10;color:#000000;font-family:newtimeroman;font-size:100%;text-align:center;border-radius: 10px 10px ;overflow:hidden;font-weight:50\">Creating Data Transformation Pipeline</p>"
   ]
  },
  {
   "attachments": {},
   "cell_type": "markdown",
   "metadata": {},
   "source": [
    "### Creating Pipeline with Column Transformer"
   ]
  },
  {
   "cell_type": "code",
   "execution_count": 7,
   "metadata": {},
   "outputs": [],
   "source": [
    "# Define which columns should be ordinal-encoded and which should be scaled\n",
    "categorical_cols = X.select_dtypes(include='object').columns\n",
    "numerical_cols = X.select_dtypes(exclude='object').columns\n",
    "            \n",
    "# Define the custom ranking for each ordinal variable\n",
    "cut_categories = ['Fair', 'Good', 'Very Good','Premium','Ideal']\n",
    "color_categories = ['D', 'E', 'F', 'G', 'H', 'I', 'J']\n",
    "clarity_categories = ['I1','SI2','SI1','VS2','VS1','VVS2','VVS1','IF']\n",
    "\n",
    "from sklearn.compose import ColumnTransformer\n",
    "from sklearn.impute import SimpleImputer\n",
    "from sklearn.pipeline import Pipeline\n",
    "from sklearn.preprocessing import OrdinalEncoder,StandardScaler\n",
    "\n",
    "# Numerical Pipeline\n",
    "num_pipeline = Pipeline(\n",
    "                steps = [\n",
    "                ('imputer',SimpleImputer(strategy='median')),\n",
    "                ('scaler',StandardScaler())                \n",
    "                ]\n",
    "            )\n",
    "\n",
    "# Categorical Pipeline\n",
    "cat_pipeline = Pipeline(\n",
    "                steps=[\n",
    "                ('imputer',SimpleImputer(strategy='most_frequent')),\n",
    "                ('ordinal_encoder',OrdinalEncoder(categories=[cut_categories,color_categories,clarity_categories])),\n",
    "                ('scaler',StandardScaler())\n",
    "                ]\n",
    "            )\n",
    "\n",
    "preprocessor = ColumnTransformer(\n",
    "                [\n",
    "                ('num_pipeline',num_pipeline,numerical_cols),\n",
    "                ('cat_pipeline',cat_pipeline,categorical_cols)\n",
    "                ]\n",
    "            )"
   ]
  },
  {
   "attachments": {},
   "cell_type": "markdown",
   "metadata": {},
   "source": [
    "# <p style=\"padding:10px;background-color:#87CEEB ;margin:10;color:#000000;font-family:newtimeroman;font-size:100%;text-align:center;border-radius: 10px 10px ;overflow:hidden;font-weight:50\">Train Test Split</p>"
   ]
  },
  {
   "cell_type": "code",
   "execution_count": 8,
   "metadata": {},
   "outputs": [],
   "source": [
    "from sklearn.model_selection import train_test_split\n",
    "xtrain, xtest, ytrain, ytest = train_test_split(X,Y,test_size=0.2,random_state=42)"
   ]
  },
  {
   "attachments": {},
   "cell_type": "markdown",
   "metadata": {},
   "source": [
    "# <p style=\"padding:10px;background-color:#87CEEB ;margin:10;color:#000000;font-family:newtimeroman;font-size:100%;text-align:center;border-radius: 10px 10px ;overflow:hidden;font-weight:50\">Transforming the data with pipeline created</p>"
   ]
  },
  {
   "cell_type": "code",
   "execution_count": 9,
   "metadata": {},
   "outputs": [],
   "source": [
    "xtrain = pd.DataFrame(preprocessor.fit_transform(xtrain),columns=preprocessor.get_feature_names_out())\n",
    "xtest = pd.DataFrame(preprocessor.transform(xtest),columns=preprocessor.get_feature_names_out())"
   ]
  },
  {
   "cell_type": "code",
   "execution_count": 10,
   "metadata": {},
   "outputs": [
    {
     "data": {
      "text/plain": [
       "array(['num_pipeline__carat', 'num_pipeline__depth',\n",
       "       'num_pipeline__table', 'num_pipeline__x', 'num_pipeline__y',\n",
       "       'num_pipeline__z', 'cat_pipeline__cut', 'cat_pipeline__color',\n",
       "       'cat_pipeline__clarity'], dtype=object)"
      ]
     },
     "execution_count": 10,
     "metadata": {},
     "output_type": "execute_result"
    }
   ],
   "source": [
    "preprocessor.get_feature_names_out()"
   ]
  },
  {
   "cell_type": "code",
   "execution_count": 11,
   "metadata": {},
   "outputs": [
    {
     "data": {
      "text/html": [
       "<div>\n",
       "<style scoped>\n",
       "    .dataframe tbody tr th:only-of-type {\n",
       "        vertical-align: middle;\n",
       "    }\n",
       "\n",
       "    .dataframe tbody tr th {\n",
       "        vertical-align: top;\n",
       "    }\n",
       "\n",
       "    .dataframe thead th {\n",
       "        text-align: right;\n",
       "    }\n",
       "</style>\n",
       "<table border=\"1\" class=\"dataframe\">\n",
       "  <thead>\n",
       "    <tr style=\"text-align: right;\">\n",
       "      <th></th>\n",
       "      <th>num_pipeline__carat</th>\n",
       "      <th>num_pipeline__depth</th>\n",
       "      <th>num_pipeline__table</th>\n",
       "      <th>num_pipeline__x</th>\n",
       "      <th>num_pipeline__y</th>\n",
       "      <th>num_pipeline__z</th>\n",
       "      <th>cat_pipeline__cut</th>\n",
       "      <th>cat_pipeline__color</th>\n",
       "      <th>cat_pipeline__clarity</th>\n",
       "    </tr>\n",
       "  </thead>\n",
       "  <tbody>\n",
       "    <tr>\n",
       "      <th>0</th>\n",
       "      <td>-1.016395</td>\n",
       "      <td>-0.204317</td>\n",
       "      <td>0.402608</td>\n",
       "      <td>-1.202472</td>\n",
       "      <td>-1.187395</td>\n",
       "      <td>-1.194148</td>\n",
       "      <td>-0.132842</td>\n",
       "      <td>-0.936018</td>\n",
       "      <td>-0.648950</td>\n",
       "    </tr>\n",
       "    <tr>\n",
       "      <th>1</th>\n",
       "      <td>0.882396</td>\n",
       "      <td>0.720758</td>\n",
       "      <td>-0.118536</td>\n",
       "      <td>0.985177</td>\n",
       "      <td>0.941823</td>\n",
       "      <td>1.036109</td>\n",
       "      <td>-0.132842</td>\n",
       "      <td>-0.320002</td>\n",
       "      <td>0.017052</td>\n",
       "    </tr>\n",
       "    <tr>\n",
       "      <th>2</th>\n",
       "      <td>1.529711</td>\n",
       "      <td>0.350728</td>\n",
       "      <td>-1.160823</td>\n",
       "      <td>1.426308</td>\n",
       "      <td>1.394848</td>\n",
       "      <td>1.441611</td>\n",
       "      <td>0.872563</td>\n",
       "      <td>1.528047</td>\n",
       "      <td>0.017052</td>\n",
       "    </tr>\n",
       "    <tr>\n",
       "      <th>3</th>\n",
       "      <td>1.896523</td>\n",
       "      <td>0.073206</td>\n",
       "      <td>0.923751</td>\n",
       "      <td>1.741402</td>\n",
       "      <td>1.711965</td>\n",
       "      <td>1.702290</td>\n",
       "      <td>-0.132842</td>\n",
       "      <td>1.528047</td>\n",
       "      <td>-1.314953</td>\n",
       "    </tr>\n",
       "    <tr>\n",
       "      <th>4</th>\n",
       "      <td>0.450852</td>\n",
       "      <td>1.738340</td>\n",
       "      <td>1.444895</td>\n",
       "      <td>0.562052</td>\n",
       "      <td>0.525040</td>\n",
       "      <td>0.703019</td>\n",
       "      <td>-2.143651</td>\n",
       "      <td>0.912031</td>\n",
       "      <td>0.017052</td>\n",
       "    </tr>\n",
       "  </tbody>\n",
       "</table>\n",
       "</div>"
      ],
      "text/plain": [
       "   num_pipeline__carat  num_pipeline__depth  num_pipeline__table  \\\n",
       "0            -1.016395            -0.204317             0.402608   \n",
       "1             0.882396             0.720758            -0.118536   \n",
       "2             1.529711             0.350728            -1.160823   \n",
       "3             1.896523             0.073206             0.923751   \n",
       "4             0.450852             1.738340             1.444895   \n",
       "\n",
       "   num_pipeline__x  num_pipeline__y  num_pipeline__z  cat_pipeline__cut  \\\n",
       "0        -1.202472        -1.187395        -1.194148          -0.132842   \n",
       "1         0.985177         0.941823         1.036109          -0.132842   \n",
       "2         1.426308         1.394848         1.441611           0.872563   \n",
       "3         1.741402         1.711965         1.702290          -0.132842   \n",
       "4         0.562052         0.525040         0.703019          -2.143651   \n",
       "\n",
       "   cat_pipeline__color  cat_pipeline__clarity  \n",
       "0            -0.936018              -0.648950  \n",
       "1            -0.320002               0.017052  \n",
       "2             1.528047               0.017052  \n",
       "3             1.528047              -1.314953  \n",
       "4             0.912031               0.017052  "
      ]
     },
     "execution_count": 11,
     "metadata": {},
     "output_type": "execute_result"
    }
   ],
   "source": [
    "xtrain.head()"
   ]
  },
  {
   "cell_type": "code",
   "execution_count": 12,
   "metadata": {},
   "outputs": [
    {
     "data": {
      "text/html": [
       "<div>\n",
       "<style scoped>\n",
       "    .dataframe tbody tr th:only-of-type {\n",
       "        vertical-align: middle;\n",
       "    }\n",
       "\n",
       "    .dataframe tbody tr th {\n",
       "        vertical-align: top;\n",
       "    }\n",
       "\n",
       "    .dataframe thead th {\n",
       "        text-align: right;\n",
       "    }\n",
       "</style>\n",
       "<table border=\"1\" class=\"dataframe\">\n",
       "  <thead>\n",
       "    <tr style=\"text-align: right;\">\n",
       "      <th></th>\n",
       "      <th>num_pipeline__carat</th>\n",
       "      <th>num_pipeline__depth</th>\n",
       "      <th>num_pipeline__table</th>\n",
       "      <th>num_pipeline__x</th>\n",
       "      <th>num_pipeline__y</th>\n",
       "      <th>num_pipeline__z</th>\n",
       "      <th>cat_pipeline__cut</th>\n",
       "      <th>cat_pipeline__color</th>\n",
       "      <th>cat_pipeline__clarity</th>\n",
       "    </tr>\n",
       "  </thead>\n",
       "  <tbody>\n",
       "    <tr>\n",
       "      <th>0</th>\n",
       "      <td>-0.628006</td>\n",
       "      <td>0.258221</td>\n",
       "      <td>-0.118536</td>\n",
       "      <td>-0.599293</td>\n",
       "      <td>-0.580341</td>\n",
       "      <td>-0.571414</td>\n",
       "      <td>0.872563</td>\n",
       "      <td>-1.552034</td>\n",
       "      <td>-0.648950</td>\n",
       "    </tr>\n",
       "    <tr>\n",
       "      <th>1</th>\n",
       "      <td>2.608569</td>\n",
       "      <td>-2.146973</td>\n",
       "      <td>-0.118536</td>\n",
       "      <td>2.128516</td>\n",
       "      <td>2.201232</td>\n",
       "      <td>1.962969</td>\n",
       "      <td>-1.138246</td>\n",
       "      <td>0.296015</td>\n",
       "      <td>-1.314953</td>\n",
       "    </tr>\n",
       "    <tr>\n",
       "      <th>2</th>\n",
       "      <td>-1.124281</td>\n",
       "      <td>-1.221899</td>\n",
       "      <td>0.923751</td>\n",
       "      <td>-1.373523</td>\n",
       "      <td>-1.413907</td>\n",
       "      <td>-1.469310</td>\n",
       "      <td>-0.132842</td>\n",
       "      <td>-0.936018</td>\n",
       "      <td>2.015061</td>\n",
       "    </tr>\n",
       "    <tr>\n",
       "      <th>3</th>\n",
       "      <td>-1.016395</td>\n",
       "      <td>-0.574346</td>\n",
       "      <td>0.923751</td>\n",
       "      <td>-1.157458</td>\n",
       "      <td>-1.160213</td>\n",
       "      <td>-1.194148</td>\n",
       "      <td>-0.132842</td>\n",
       "      <td>1.528047</td>\n",
       "      <td>2.015061</td>\n",
       "    </tr>\n",
       "    <tr>\n",
       "      <th>4</th>\n",
       "      <td>0.860819</td>\n",
       "      <td>0.628251</td>\n",
       "      <td>-0.639679</td>\n",
       "      <td>0.949167</td>\n",
       "      <td>0.987125</td>\n",
       "      <td>1.007145</td>\n",
       "      <td>0.872563</td>\n",
       "      <td>0.912031</td>\n",
       "      <td>-0.648950</td>\n",
       "    </tr>\n",
       "  </tbody>\n",
       "</table>\n",
       "</div>"
      ],
      "text/plain": [
       "   num_pipeline__carat  num_pipeline__depth  num_pipeline__table  \\\n",
       "0            -0.628006             0.258221            -0.118536   \n",
       "1             2.608569            -2.146973            -0.118536   \n",
       "2            -1.124281            -1.221899             0.923751   \n",
       "3            -1.016395            -0.574346             0.923751   \n",
       "4             0.860819             0.628251            -0.639679   \n",
       "\n",
       "   num_pipeline__x  num_pipeline__y  num_pipeline__z  cat_pipeline__cut  \\\n",
       "0        -0.599293        -0.580341        -0.571414           0.872563   \n",
       "1         2.128516         2.201232         1.962969          -1.138246   \n",
       "2        -1.373523        -1.413907        -1.469310          -0.132842   \n",
       "3        -1.157458        -1.160213        -1.194148          -0.132842   \n",
       "4         0.949167         0.987125         1.007145           0.872563   \n",
       "\n",
       "   cat_pipeline__color  cat_pipeline__clarity  \n",
       "0            -1.552034              -0.648950  \n",
       "1             0.296015              -1.314953  \n",
       "2            -0.936018               2.015061  \n",
       "3             1.528047               2.015061  \n",
       "4             0.912031              -0.648950  "
      ]
     },
     "execution_count": 12,
     "metadata": {},
     "output_type": "execute_result"
    }
   ],
   "source": [
    "xtest.head()"
   ]
  },
  {
   "attachments": {},
   "cell_type": "markdown",
   "metadata": {},
   "source": [
    "# <p style=\"padding:10px;background-color:#87CEEB ;margin:10;color:#000000;font-family:newtimeroman;font-size:100%;text-align:center;border-radius: 10px 10px ;overflow:hidden;font-weight:50\">Model Training Baseline models</p>"
   ]
  },
  {
   "attachments": {},
   "cell_type": "markdown",
   "metadata": {},
   "source": [
    "### Create an Evaluate Function to give all metrics after model Training"
   ]
  },
  {
   "cell_type": "code",
   "execution_count": 13,
   "metadata": {},
   "outputs": [],
   "source": [
    "def evaluate_model(true, predicted):\n",
    "    mae = mean_absolute_error(true, predicted)\n",
    "    mse = mean_squared_error(true, predicted)\n",
    "    rmse = np.sqrt(mean_squared_error(true, predicted))\n",
    "    r2_square = r2_score(true, predicted)\n",
    "    return mae, rmse, r2_square"
   ]
  },
  {
   "attachments": {},
   "cell_type": "markdown",
   "metadata": {},
   "source": [
    "### Training Various models"
   ]
  },
  {
   "cell_type": "code",
   "execution_count": 14,
   "metadata": {},
   "outputs": [
    {
     "name": "stdout",
     "output_type": "stream",
     "text": [
      "Linear Regression\n",
      "Model performance for Training set\n",
      "- Root Mean Squared Error: 1016.9490\n",
      "- Mean Absolute Error: 677.1656\n",
      "- R2 Score: 0.9366\n",
      "----------------------------------\n",
      "Model performance for Test set\n",
      "- Root Mean Squared Error: 1006.6010\n",
      "- Mean Absolute Error: 671.5856\n",
      "- R2 Score: 0.9373\n",
      "===================================\n",
      "\n",
      "\n",
      "Lasso\n",
      "Model performance for Training set\n",
      "- Root Mean Squared Error: 1017.0718\n",
      "- Mean Absolute Error: 678.3145\n",
      "- R2 Score: 0.9366\n",
      "----------------------------------\n",
      "Model performance for Test set\n",
      "- Root Mean Squared Error: 1006.8716\n",
      "- Mean Absolute Error: 672.8635\n",
      "- R2 Score: 0.9373\n",
      "===================================\n",
      "\n",
      "\n",
      "Ridge\n",
      "Model performance for Training set\n",
      "- Root Mean Squared Error: 1016.9491\n",
      "- Mean Absolute Error: 677.1925\n",
      "- R2 Score: 0.9366\n",
      "----------------------------------\n",
      "Model performance for Test set\n",
      "- Root Mean Squared Error: 1006.6062\n",
      "- Mean Absolute Error: 671.6137\n",
      "- R2 Score: 0.9373\n",
      "===================================\n",
      "\n",
      "\n",
      "K-Neighbors Regressor\n",
      "Model performance for Training set\n",
      "- Root Mean Squared Error: 545.6563\n",
      "- Mean Absolute Error: 285.8181\n",
      "- R2 Score: 0.9817\n",
      "----------------------------------\n",
      "Model performance for Test set\n",
      "- Root Mean Squared Error: 671.2898\n",
      "- Mean Absolute Error: 349.4687\n",
      "- R2 Score: 0.9721\n",
      "===================================\n",
      "\n",
      "\n",
      "Decision Tree\n",
      "Model performance for Training set\n",
      "- Root Mean Squared Error: 12.8816\n",
      "- Mean Absolute Error: 0.8012\n",
      "- R2 Score: 1.0000\n",
      "----------------------------------\n",
      "Model performance for Test set\n",
      "- Root Mean Squared Error: 837.3161\n",
      "- Mean Absolute Error: 423.9449\n",
      "- R2 Score: 0.9566\n",
      "===================================\n",
      "\n",
      "\n",
      "Random Forest Regressor\n",
      "Model performance for Training set\n",
      "- Root Mean Squared Error: 228.0367\n",
      "- Mean Absolute Error: 115.9230\n",
      "- R2 Score: 0.9968\n",
      "----------------------------------\n",
      "Model performance for Test set\n",
      "- Root Mean Squared Error: 605.8631\n",
      "- Mean Absolute Error: 309.2377\n",
      "- R2 Score: 0.9773\n",
      "===================================\n",
      "\n",
      "\n",
      "XGBRegressor\n",
      "Model performance for Training set\n",
      "- Root Mean Squared Error: 514.2452\n",
      "- Mean Absolute Error: 275.7583\n",
      "- R2 Score: 0.9838\n",
      "----------------------------------\n",
      "Model performance for Test set\n",
      "- Root Mean Squared Error: 585.4372\n",
      "- Mean Absolute Error: 296.9582\n",
      "- R2 Score: 0.9788\n",
      "===================================\n",
      "\n",
      "\n",
      "CatBoosting Regressor\n",
      "Model performance for Training set\n",
      "- Root Mean Squared Error: 530.6367\n",
      "- Mean Absolute Error: 282.2494\n",
      "- R2 Score: 0.9827\n",
      "----------------------------------\n",
      "Model performance for Test set\n",
      "- Root Mean Squared Error: 579.9574\n",
      "- Mean Absolute Error: 295.4844\n",
      "- R2 Score: 0.9792\n",
      "===================================\n",
      "\n",
      "\n",
      "AdaBoost Regressor\n",
      "Model performance for Training set\n",
      "- Root Mean Squared Error: 1338.0985\n",
      "- Mean Absolute Error: 927.2836\n",
      "- R2 Score: 0.8902\n",
      "----------------------------------\n",
      "Model performance for Test set\n",
      "- Root Mean Squared Error: 1338.8162\n",
      "- Mean Absolute Error: 926.4888\n",
      "- R2 Score: 0.8891\n",
      "===================================\n",
      "\n",
      "\n"
     ]
    }
   ],
   "source": [
    "models = {\n",
    "    \"Linear Regression\": LinearRegression(),\n",
    "    \"Lasso\": Lasso(),\n",
    "    \"Ridge\": Ridge(),\n",
    "    \"K-Neighbors Regressor\": KNeighborsRegressor(),\n",
    "    \"Decision Tree\": DecisionTreeRegressor(),\n",
    "    \"Random Forest Regressor\": RandomForestRegressor(),\n",
    "    \"XGBRegressor\": XGBRegressor(), \n",
    "    \"CatBoosting Regressor\": CatBoostRegressor(verbose=False),\n",
    "    \"AdaBoost Regressor\": AdaBoostRegressor()\n",
    "}\n",
    "model_list = []\n",
    "r2_list =[]\n",
    "\n",
    "for i in range(len(list(models))):\n",
    "    model = list(models.values())[i]\n",
    "    model.fit(xtrain, ytrain.values.flatten()) # Train model\n",
    "\n",
    "    # Make predictions\n",
    "    y_train_pred = model.predict(xtrain)\n",
    "    y_test_pred = model.predict(xtest)\n",
    "    \n",
    "    # Evaluate Train and Test dataset\n",
    "    model_train_mae , model_train_rmse, model_train_r2 = evaluate_model(ytrain, y_train_pred)\n",
    "\n",
    "    model_test_mae , model_test_rmse, model_test_r2 = evaluate_model(ytest, y_test_pred)\n",
    "\n",
    "    \n",
    "    print(list(models.keys())[i])\n",
    "    model_list.append(list(models.keys())[i])\n",
    "    \n",
    "    print('Model performance for Training set')\n",
    "    print(\"- Root Mean Squared Error: {:.4f}\".format(model_train_rmse))\n",
    "    print(\"- Mean Absolute Error: {:.4f}\".format(model_train_mae))\n",
    "    print(\"- R2 Score: {:.4f}\".format(model_train_r2))\n",
    "\n",
    "    print('----------------------------------')\n",
    "    \n",
    "    print('Model performance for Test set')\n",
    "    print(\"- Root Mean Squared Error: {:.4f}\".format(model_test_rmse))\n",
    "    print(\"- Mean Absolute Error: {:.4f}\".format(model_test_mae))\n",
    "    print(\"- R2 Score: {:.4f}\".format(model_test_r2))\n",
    "    r2_list.append(model_test_r2)\n",
    "    \n",
    "    print('='*35)\n",
    "    print('\\n')"
   ]
  },
  {
   "attachments": {},
   "cell_type": "markdown",
   "metadata": {},
   "source": [
    "### Results"
   ]
  },
  {
   "cell_type": "code",
   "execution_count": 15,
   "metadata": {},
   "outputs": [
    {
     "data": {
      "text/html": [
       "<div>\n",
       "<style scoped>\n",
       "    .dataframe tbody tr th:only-of-type {\n",
       "        vertical-align: middle;\n",
       "    }\n",
       "\n",
       "    .dataframe tbody tr th {\n",
       "        vertical-align: top;\n",
       "    }\n",
       "\n",
       "    .dataframe thead th {\n",
       "        text-align: right;\n",
       "    }\n",
       "</style>\n",
       "<table border=\"1\" class=\"dataframe\">\n",
       "  <thead>\n",
       "    <tr style=\"text-align: right;\">\n",
       "      <th></th>\n",
       "      <th>Model Name</th>\n",
       "      <th>R2_Score</th>\n",
       "    </tr>\n",
       "  </thead>\n",
       "  <tbody>\n",
       "    <tr>\n",
       "      <th>7</th>\n",
       "      <td>CatBoosting Regressor</td>\n",
       "      <td>0.979186</td>\n",
       "    </tr>\n",
       "    <tr>\n",
       "      <th>6</th>\n",
       "      <td>XGBRegressor</td>\n",
       "      <td>0.978790</td>\n",
       "    </tr>\n",
       "    <tr>\n",
       "      <th>5</th>\n",
       "      <td>Random Forest Regressor</td>\n",
       "      <td>0.977285</td>\n",
       "    </tr>\n",
       "    <tr>\n",
       "      <th>3</th>\n",
       "      <td>K-Neighbors Regressor</td>\n",
       "      <td>0.972114</td>\n",
       "    </tr>\n",
       "    <tr>\n",
       "      <th>4</th>\n",
       "      <td>Decision Tree</td>\n",
       "      <td>0.956614</td>\n",
       "    </tr>\n",
       "    <tr>\n",
       "      <th>0</th>\n",
       "      <td>Linear Regression</td>\n",
       "      <td>0.937298</td>\n",
       "    </tr>\n",
       "    <tr>\n",
       "      <th>2</th>\n",
       "      <td>Ridge</td>\n",
       "      <td>0.937297</td>\n",
       "    </tr>\n",
       "    <tr>\n",
       "      <th>1</th>\n",
       "      <td>Lasso</td>\n",
       "      <td>0.937264</td>\n",
       "    </tr>\n",
       "    <tr>\n",
       "      <th>8</th>\n",
       "      <td>AdaBoost Regressor</td>\n",
       "      <td>0.889079</td>\n",
       "    </tr>\n",
       "  </tbody>\n",
       "</table>\n",
       "</div>"
      ],
      "text/plain": [
       "                Model Name  R2_Score\n",
       "7    CatBoosting Regressor  0.979186\n",
       "6             XGBRegressor  0.978790\n",
       "5  Random Forest Regressor  0.977285\n",
       "3    K-Neighbors Regressor  0.972114\n",
       "4            Decision Tree  0.956614\n",
       "0        Linear Regression  0.937298\n",
       "2                    Ridge  0.937297\n",
       "1                    Lasso  0.937264\n",
       "8       AdaBoost Regressor  0.889079"
      ]
     },
     "execution_count": 15,
     "metadata": {},
     "output_type": "execute_result"
    }
   ],
   "source": [
    "df_results = pd.DataFrame(list(zip(model_list, r2_list)), columns=['Model Name', 'R2_Score']).sort_values(by=[\"R2_Score\"],ascending=False)\n",
    "df_results"
   ]
  },
  {
   "attachments": {},
   "cell_type": "markdown",
   "metadata": {},
   "source": [
    "# <p style=\"padding:10px;background-color:#87CEEB ;margin:10;color:#000000;font-family:newtimeroman;font-size:100%;text-align:center;border-radius: 10px 10px ;overflow:hidden;font-weight:50\">Hyperparameter tuning</p>"
   ]
  },
  {
   "attachments": {},
   "cell_type": "markdown",
   "metadata": {},
   "source": [
    "### Tuning Catboost"
   ]
  },
  {
   "cell_type": "code",
   "execution_count": 16,
   "metadata": {},
   "outputs": [
    {
     "name": "stdout",
     "output_type": "stream",
     "text": [
      "{'learning_rate': 0.03, 'iterations': 600, 'depth': 9}\n",
      "0.9797860695383749\n"
     ]
    }
   ],
   "source": [
    "# Initializing catboost\n",
    "cbr = CatBoostRegressor(verbose=False)\n",
    "\n",
    "# Creating the hyperparameter grid\n",
    "param_dist = {'depth'          : [4,5,6,7,8,9, 10],\n",
    "              'learning_rate' : [0.01,0.02,0.03,0.04],\n",
    "               'iterations'    : [300,400,500,600]}\n",
    "\n",
    "#Instantiate RandomSearchCV object\n",
    "rscv = RandomizedSearchCV(cbr , param_dist, scoring='r2', cv =5, n_jobs=-1)\n",
    "\n",
    "# Fit the model\n",
    "rscv.fit(xtrain, ytrain.values.flatten())\n",
    "\n",
    "# Print the tuned parameters and score\n",
    "print(rscv.best_params_)\n",
    "print(rscv.best_score_)"
   ]
  },
  {
   "attachments": {},
   "cell_type": "markdown",
   "metadata": {},
   "source": [
    "### Definition to print evaluated model results"
   ]
  },
  {
   "cell_type": "code",
   "execution_count": 23,
   "metadata": {},
   "outputs": [],
   "source": [
    "def print_evaluated_results(model,xtrain,ytrain,xtest,ytest):\n",
    "    ytrain_pred = model.predict(xtrain)\n",
    "    ytest_pred = model.predict(xtest)\n",
    "\n",
    "    # Evaluate Train and Test dataset\n",
    "    model_train_mae , model_train_rmse, model_train_r2 = evaluate_model(ytrain, ytrain_pred)\n",
    "    model_test_mae , model_test_rmse, model_test_r2 = evaluate_model(ytest, ytest_pred)\n",
    "\n",
    "    # Printing results\n",
    "    print('Model performance for Training set')\n",
    "    print(\"- Root Mean Squared Error: {:.4f}\".format(model_train_rmse))\n",
    "    print(\"- Mean Absolute Error: {:.4f}\".format(model_train_mae))\n",
    "    print(\"- R2 Score: {:.4f}\".format(model_train_r2))\n",
    "\n",
    "    print('----------------------------------')\n",
    "    \n",
    "    print('Model performance for Test set')\n",
    "    print(\"- Root Mean Squared Error: {:.4f}\".format(model_test_rmse))\n",
    "    print(\"- Mean Absolute Error: {:.4f}\".format(model_test_mae))\n",
    "    print(\"- R2 Score: {:.4f}\".format(model_test_r2))"
   ]
  },
  {
   "cell_type": "code",
   "execution_count": 24,
   "metadata": {},
   "outputs": [
    {
     "name": "stdout",
     "output_type": "stream",
     "text": [
      "Model performance for Training set\n",
      "- Root Mean Squared Error: 549.6000\n",
      "- Mean Absolute Error: 290.4081\n",
      "- R2 Score: 0.9815\n",
      "----------------------------------\n",
      "Model performance for Test set\n",
      "- Root Mean Squared Error: 576.0870\n",
      "- Mean Absolute Error: 296.0409\n",
      "- R2 Score: 0.9795\n"
     ]
    }
   ],
   "source": [
    "# Selecting best model\n",
    "best_cbr = rscv.best_estimator_\n",
    "\n",
    "# Evaluate Train and Test dataset\n",
    "print_evaluated_results(best_cbr,xtrain,ytrain,xtest,ytest)"
   ]
  },
  {
   "attachments": {},
   "cell_type": "markdown",
   "metadata": {},
   "source": [
    "### Tuning KNN"
   ]
  },
  {
   "cell_type": "code",
   "execution_count": 25,
   "metadata": {},
   "outputs": [
    {
     "name": "stdout",
     "output_type": "stream",
     "text": [
      "{'n_neighbors': 16}\n",
      "0.9736029547852756\n"
     ]
    }
   ],
   "source": [
    "from sklearn.model_selection import GridSearchCV\n",
    "# Initialize knn\n",
    "knn = KNeighborsRegressor()\n",
    "\n",
    "# parameters\n",
    "k_range = list(range(2, 31))\n",
    "param_grid = dict(n_neighbors=k_range)\n",
    "\n",
    "# Fitting the cvmodel\n",
    "grid = GridSearchCV(knn, param_grid, cv=5, scoring='r2',n_jobs=-1)\n",
    "grid.fit(xtrain, ytrain)\n",
    "\n",
    "# Print the tuned parameters and score\n",
    "print(grid.best_params_)\n",
    "print(grid.best_score_)"
   ]
  },
  {
   "cell_type": "code",
   "execution_count": 26,
   "metadata": {},
   "outputs": [
    {
     "name": "stdout",
     "output_type": "stream",
     "text": [
      "Model performance for Training set\n",
      "- Root Mean Squared Error: 610.3458\n",
      "- Mean Absolute Error: 319.3932\n",
      "- R2 Score: 0.9772\n",
      "----------------------------------\n",
      "Model performance for Test set\n",
      "- Root Mean Squared Error: 643.8459\n",
      "- Mean Absolute Error: 336.3468\n",
      "- R2 Score: 0.9743\n"
     ]
    }
   ],
   "source": [
    "# Selecting best model\n",
    "best_knn = grid.best_estimator_\n",
    "\n",
    "# Evaluate Train and Test dataset\n",
    "print_evaluated_results(best_knn,xtrain,ytrain,xtest,ytest)"
   ]
  },
  {
   "attachments": {},
   "cell_type": "markdown",
   "metadata": {},
   "source": [
    "### Tuning XGBoost"
   ]
  },
  {
   "cell_type": "code",
   "execution_count": 27,
   "metadata": {},
   "outputs": [
    {
     "name": "stdout",
     "output_type": "stream",
     "text": [
      "{'n_estimators': 400, 'min_child_weight': 7, 'max_depth': 6, 'learning_rate': 0.25, 'gamma': 0.2, 'colsample_bytree': 0.4}\n",
      "0.9786474585533143\n"
     ]
    }
   ],
   "source": [
    "# Initializing xgboost\n",
    "xgb = XGBRegressor()\n",
    "\n",
    "# Parameters\n",
    "params = {\n",
    " 'learning_rate' : [0.05,0.10,0.15,0.20,0.25,0.30],\n",
    " 'max_depth' : [ 3, 4, 5, 6, 8, 10, 12, 15],\n",
    " 'min_child_weight' : [ 1, 3, 5, 7 ],\n",
    " 'gamma': [ 0.0, 0.1, 0.2 , 0.3, 0.4 ],\n",
    " 'colsample_bytree' : [ 0.3, 0.4, 0.5 , 0.7 ],\n",
    " 'n_estimators':[300,400,500,600]\n",
    "}\n",
    "\n",
    "rs_xgb=RandomizedSearchCV(xgb,param_distributions=params,scoring='r2',n_jobs=-1,cv=5)\n",
    "rs_xgb.fit(xtrain, ytrain.values.flatten())\n",
    "\n",
    "# Print the tuned parameters and score\n",
    "print(rs_xgb.best_params_)\n",
    "print(rs_xgb.best_score_)"
   ]
  },
  {
   "cell_type": "code",
   "execution_count": 28,
   "metadata": {},
   "outputs": [
    {
     "name": "stdout",
     "output_type": "stream",
     "text": [
      "Model performance for Training set\n",
      "- Root Mean Squared Error: 510.2936\n",
      "- Mean Absolute Error: 272.6833\n",
      "- R2 Score: 0.9840\n",
      "----------------------------------\n",
      "Model performance for Test set\n",
      "- Root Mean Squared Error: 586.4387\n",
      "- Mean Absolute Error: 297.3665\n",
      "- R2 Score: 0.9787\n"
     ]
    }
   ],
   "source": [
    "# Selecting best xgb model\n",
    "best_xgb = rs_xgb.best_estimator_\n",
    "\n",
    "# Evaluate Train and Test dataset\n",
    "print_evaluated_results(best_xgb,xtrain,ytrain,xtest,ytest)"
   ]
  },
  {
   "attachments": {},
   "cell_type": "markdown",
   "metadata": {},
   "source": [
    "# <p style=\"padding:10px;background-color:#87CEEB ;margin:10;color:#000000;font-family:newtimeroman;font-size:100%;text-align:center;border-radius: 10px 10px ;overflow:hidden;font-weight:50\">Voting Regressor</p>"
   ]
  },
  {
   "cell_type": "code",
   "execution_count": 29,
   "metadata": {},
   "outputs": [
    {
     "name": "stdout",
     "output_type": "stream",
     "text": [
      "Model performance for Training set\n",
      "- Root Mean Squared Error: 532.4304\n",
      "- Mean Absolute Error: 281.4005\n",
      "- R2 Score: 0.9826\n",
      "----------------------------------\n",
      "Model performance for Test set\n",
      "- Root Mean Squared Error: 575.0004\n",
      "- Mean Absolute Error: 293.4953\n",
      "- R2 Score: 0.9795\n"
     ]
    }
   ],
   "source": [
    "from sklearn.ensemble import VotingRegressor\n",
    "\n",
    "er = VotingRegressor([('cbr',best_cbr),('knn',best_knn),('xgb',XGBRegressor())], weights=[3,1,2])\n",
    "er.fit(xtrain, ytrain.values.flatten())\n",
    "\n",
    "print_evaluated_results(er,xtrain,ytrain,xtest,ytest)"
   ]
  },
  {
   "attachments": {},
   "cell_type": "markdown",
   "metadata": {},
   "source": [
    "### Model improved with Ensemble technique !"
   ]
  },
  {
   "attachments": {},
   "cell_type": "markdown",
   "metadata": {},
   "source": [
    "# <p style=\"padding:10px;background-color:#87CEEB ;margin:10;color:#000000;font-family:newtimeroman;font-size:100%;text-align:center;border-radius: 10px 10px ;overflow:hidden;font-weight:50\">Catboost Model Feature Importances</p>"
   ]
  },
  {
   "cell_type": "code",
   "execution_count": 30,
   "metadata": {},
   "outputs": [
    {
     "name": "stdout",
     "output_type": "stream",
     "text": [
      "num_pipeline__carat      23.435530\n",
      "num_pipeline__y          19.015468\n",
      "cat_pipeline__clarity    17.085389\n",
      "num_pipeline__z          14.865362\n",
      "cat_pipeline__color      12.691525\n",
      "num_pipeline__x          12.117013\n",
      "cat_pipeline__cut         0.383226\n",
      "num_pipeline__table       0.229542\n",
      "num_pipeline__depth       0.176945\n",
      "dtype: float64\n",
      "\n",
      "\n"
     ]
    },
    {
     "data": {
      "image/png": "[encoded data removed]",
      "text/plain": [
       "<Figure size 640x480 with 1 Axes>"
      ]
     },
     "metadata": {},
     "output_type": "display_data"
    }
   ],
   "source": [
    "feature_imp = best_cbr.feature_importances_\n",
    "feature_nm = best_cbr.feature_names_\n",
    "imp_series = pd.Series(feature_imp)\n",
    "imp_series.index = feature_nm\n",
    "print(imp_series.sort_values(ascending=False))\n",
    "print('\\n')\n",
    "imp_series.sort_values().plot(kind='barh',\n",
    "                              xlabel='feature importance',\n",
    "                              ylabel='feature name',\n",
    "                              title='Catboost Feature importances')\n",
    "plt.show()"
   ]
  }
 ],
 "metadata": {
  "kernelspec": {
   "display_name": "venv",
   "language": "python",
   "name": "python3"
  },
  "language_info": {
   "codemirror_mode": {
    "name": "ipython",
    "version": 3
   },
   "file_extension": ".py",
   "mimetype": "text/x-python",
   "name": "python",
   "nbconvert_exporter": "python",
   "pygments_lexer": "ipython3",
   "version": "3.12.4"
  },
  "orig_nbformat": 4
 },
 "nbformat": 4,
 "nbformat_minor": 2
}
